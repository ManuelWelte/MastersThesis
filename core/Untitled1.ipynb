{
 "cells": [
  {
   "cell_type": "code",
   "execution_count": null,
   "id": "e2a2ad06-b504-48c2-bff1-5e37be3a9871",
   "metadata": {},
   "outputs": [],
   "source": []
  }
 ],
 "metadata": {
  "kernelspec": {
   "display_name": "",
   "name": ""
  },
  "language_info": {
   "name": ""
  }
 },
 "nbformat": 4,
 "nbformat_minor": 5
}
