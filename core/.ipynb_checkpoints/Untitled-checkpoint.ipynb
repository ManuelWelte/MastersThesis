{
 "cells": [
  {
   "cell_type": "code",
   "execution_count": 3,
   "id": "01d64625-e3dc-478e-bfe2-089043430c12",
   "metadata": {},
   "outputs": [],
   "source": [
    "from refinement import Refine_Hook\n",
    "import torch\n",
    "import numpy as np"
   ]
  },
  {
   "cell_type": "code",
   "execution_count": 35,
   "id": "37ee37b8-c274-4cfc-848f-c21cba7e22cf",
   "metadata": {},
   "outputs": [],
   "source": [
    "lin = torch.nn.Linear(10, 1, bias = False)\n",
    "lin_2 = torch.nn.Linear(1,1, bias = False)\n",
    "lin.weight = torch.nn.parameter.Parameter(torch.ones(10))\n",
    "lin_2.weight = torch.nn.parameter.Parameter(torch.tensor([5.0]))\n",
    "ref_hook = Refine_Hook(scaling = 2)"
   ]
  },
  {
   "cell_type": "code",
   "execution_count": 33,
   "id": "f61a16c1-9e99-4ead-960b-92d69b3ea788",
   "metadata": {},
   "outputs": [
    {
     "data": {
      "text/plain": [
       "tensor(50., grad_fn=<MulBackward0>)"
      ]
     },
     "execution_count": 33,
     "metadata": {},
     "output_type": "execute_result"
    }
   ],
   "source": [
    "lin_2(lin(torch.ones((1,10))))"
   ]
  },
  {
   "cell_type": "code",
   "execution_count": null,
   "id": "9ca08d02-173b-4b06-83a2-7c427b1658cb",
   "metadata": {},
   "outputs": [],
   "source": [
    "ref_hook.register(lin)\n",
    "lin_2(lin(torch.ones((1,10))))"
   ]
  }
 ],
 "metadata": {
  "kernelspec": {
   "display_name": "Python 3 (ipykernel)",
   "language": "python",
   "name": "python3"
  },
  "language_info": {
   "codemirror_mode": {
    "name": "ipython",
    "version": 3
   },
   "file_extension": ".py",
   "mimetype": "text/x-python",
   "name": "python",
   "nbconvert_exporter": "python",
   "pygments_lexer": "ipython3",
   "version": "3.12.2"
  }
 },
 "nbformat": 4,
 "nbformat_minor": 5
}
