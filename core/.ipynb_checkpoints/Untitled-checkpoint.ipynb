{
 "cells": [
  {
   "cell_type": "code",
   "execution_count": 39,
   "id": "01d64625-e3dc-478e-bfe2-089043430c12",
   "metadata": {},
   "outputs": [],
   "source": [
    "from refinement import Refine_Hook\n",
    "import torch\n",
    "import numpy as np\n",
    "%load_ext autoreload\n",
    "%autoreload 2"
   ]
  },
  {
   "cell_type": "code",
   "execution_count": 43,
   "id": "37ee37b8-c274-4cfc-848f-c21cba7e22cf",
   "metadata": {},
   "outputs": [],
   "source": [
    "lin = torch.nn.Linear(10, 1, bias = False)\n",
    "lin_2 = torch.nn.Linear(1,1, bias = False)\n",
    "lin.weight = torch.nn.parameter.Parameter(torch.ones(10))\n",
    "lin_2.weight = torch.nn.parameter.Parameter(torch.tensor([5.0]))\n",
    "ref_hook = Refine_Hook(scaling = 2)"
   ]
  },
  {
   "cell_type": "code",
   "execution_count": 44,
   "id": "f61a16c1-9e99-4ead-960b-92d69b3ea788",
   "metadata": {},
   "outputs": [
    {
     "data": {
      "text/plain": [
       "tensor(50., grad_fn=<DotBackward0>)"
      ]
     },
     "execution_count": 44,
     "metadata": {},
     "output_type": "execute_result"
    }
   ],
   "source": [
    "lin_2(lin(torch.ones((1,10))))"
   ]
  },
  {
   "cell_type": "code",
   "execution_count": 45,
   "id": "9ca08d02-173b-4b06-83a2-7c427b1658cb",
   "metadata": {},
   "outputs": [
    {
     "data": {
      "text/plain": [
       "tensor(100., grad_fn=<DotBackward0>)"
      ]
     },
     "execution_count": 45,
     "metadata": {},
     "output_type": "execute_result"
    }
   ],
   "source": [
    "ref_hook.register(lin)\n",
    "lin_2(lin(torch.ones((1,10))))"
   ]
  },
  {
   "cell_type": "code",
   "execution_count": 51,
   "id": "7a64d3a9-417f-405e-aea6-0bc15c1b39e8",
   "metadata": {},
   "outputs": [
    {
     "data": {
      "text/plain": [
       "tensor(100., grad_fn=<DotBackward0>)"
      ]
     },
     "execution_count": 51,
     "metadata": {},
     "output_type": "execute_result"
    }
   ],
   "source": [
    "ref_hook.scaling = 2\n",
    "lin_2(lin(torch.ones((1,10))))\n"
   ]
  },
  {
   "cell_type": "code",
   "execution_count": 56,
   "id": "047cc820-7edd-4cb4-98c2-600e417df231",
   "metadata": {},
   "outputs": [],
   "source": [
    "\n",
    "from eval import Poisoned_MNIST_Dataset\n",
    "import torchvision\n",
    "import os"
   ]
  },
  {
   "cell_type": "code",
   "execution_count": 60,
   "id": "1a429d2c-c8b6-41c2-b968-17504a42aac9",
   "metadata": {},
   "outputs": [
    {
     "ename": "TypeError",
     "evalue": "cannot unpack non-iterable int object",
     "output_type": "error",
     "traceback": [
      "\u001b[1;31m---------------------------------------------------------------------------\u001b[0m",
      "\u001b[1;31mTypeError\u001b[0m                                 Traceback (most recent call last)",
      "Cell \u001b[1;32mIn[60], line 2\u001b[0m\n\u001b[0;32m      1\u001b[0m data \u001b[38;5;241m=\u001b[39m torchvision\u001b[38;5;241m.\u001b[39mdatasets\u001b[38;5;241m.\u001b[39mMNIST(os\u001b[38;5;241m.\u001b[39mpath\u001b[38;5;241m.\u001b[39mjoin(\u001b[38;5;124m\"\u001b[39m\u001b[38;5;124mD:\u001b[39m\u001b[38;5;124m\"\u001b[39m, \u001b[38;5;124m\"\u001b[39m\u001b[38;5;124mMNIST\u001b[39m\u001b[38;5;124m\"\u001b[39m), train\u001b[38;5;241m=\u001b[39m\u001b[38;5;28;01mTrue\u001b[39;00m, download\u001b[38;5;241m=\u001b[39m\u001b[38;5;28;01mFalse\u001b[39;00m, transform\u001b[38;5;241m=\u001b[39m\u001b[38;5;28;01mNone\u001b[39;00m)\n\u001b[1;32m----> 2\u001b[0m data \u001b[38;5;241m=\u001b[39m \u001b[43mPoisoned_MNIST_Dataset\u001b[49m\u001b[43m(\u001b[49m\u001b[43mdata\u001b[49m\u001b[43m,\u001b[49m\u001b[43m \u001b[49m\u001b[43m{\u001b[49m\u001b[38;5;241;43m0\u001b[39;49m\u001b[43m \u001b[49m\u001b[43m:\u001b[49m\u001b[43m \u001b[49m\u001b[38;5;28;43;01mlambda\u001b[39;49;00m\u001b[43m \u001b[49m\u001b[43mx\u001b[49m\u001b[43m \u001b[49m\u001b[43m:\u001b[49m\u001b[43m \u001b[49m\u001b[43mx\u001b[49m\u001b[43m}\u001b[49m\u001b[43m,\u001b[49m\u001b[43m \u001b[49m\u001b[43m{\u001b[49m\u001b[38;5;241;43m0\u001b[39;49m\u001b[43m:\u001b[49m\u001b[38;5;241;43m0.5\u001b[39;49m\u001b[43m}\u001b[49m\u001b[43m)\u001b[49m\n",
      "File \u001b[1;32m~\\MastersThesis\\core\\eval.py:17\u001b[0m, in \u001b[0;36mPoisoned_MNIST_Dataset.__init__\u001b[1;34m(self, mnist_dataset, corruptions, poison_fracs)\u001b[0m\n\u001b[0;32m     14\u001b[0m \u001b[38;5;28mself\u001b[39m\u001b[38;5;241m.\u001b[39mpoison_indices \u001b[38;5;241m=\u001b[39m {}\n\u001b[0;32m     15\u001b[0m \u001b[38;5;28mself\u001b[39m\u001b[38;5;241m.\u001b[39mcorruptions \u001b[38;5;241m=\u001b[39m {}\n\u001b[1;32m---> 17\u001b[0m \u001b[38;5;28;01mfor\u001b[39;00m label, _ \u001b[38;5;129;01min\u001b[39;00m corruptions:\n\u001b[0;32m     18\u001b[0m     valid_indices \u001b[38;5;241m=\u001b[39m torch\u001b[38;5;241m.\u001b[39margwhere(\u001b[38;5;28mself\u001b[39m\u001b[38;5;241m.\u001b[39mdataset\u001b[38;5;241m.\u001b[39mtargets \u001b[38;5;241m==\u001b[39m label)\n\u001b[0;32m     19\u001b[0m     sample \u001b[38;5;241m=\u001b[39m np\u001b[38;5;241m.\u001b[39mrandom\u001b[38;5;241m.\u001b[39mchoice(\u001b[38;5;28mlen\u001b[39m(valid_indices), size \u001b[38;5;241m=\u001b[39m \u001b[38;5;28mint\u001b[39m(poison_fracs[label] \u001b[38;5;241m*\u001b[39m \u001b[38;5;28mlen\u001b[39m(valid_indices)), replace\u001b[38;5;241m=\u001b[39m\u001b[38;5;28;01mFalse\u001b[39;00m)\n",
      "\u001b[1;31mTypeError\u001b[0m: cannot unpack non-iterable int object"
     ]
    }
   ],
   "source": [
    "data = torchvision.datasets.MNIST(os.path.join(\"D:\", \"MNIST\"), train=True, download=False, transform=None)\n",
    "data = Poisoned_MNIST_Dataset(data, {0 : lambda x : x}, {0:0.5})"
   ]
  },
  {
   "cell_type": "code",
   "execution_count": null,
   "id": "6ab11d1c-39ce-459e-a20c-f67faecad609",
   "metadata": {},
   "outputs": [],
   "source": []
  }
 ],
 "metadata": {
  "kernelspec": {
   "display_name": "Python 3 (ipykernel)",
   "language": "python",
   "name": "python3"
  },
  "language_info": {
   "codemirror_mode": {
    "name": "ipython",
    "version": 3
   },
   "file_extension": ".py",
   "mimetype": "text/x-python",
   "name": "python",
   "nbconvert_exporter": "python",
   "pygments_lexer": "ipython3",
   "version": "3.12.2"
  }
 },
 "nbformat": 4,
 "nbformat_minor": 5
}
